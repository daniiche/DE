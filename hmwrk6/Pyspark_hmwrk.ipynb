{
 "cells": [
  {
   "cell_type": "code",
   "execution_count": 1,
   "id": "08c09540",
   "metadata": {},
   "outputs": [],
   "source": [
    "from pyspark.sql import SparkSession\n",
    "import pyspark.sql.functions as F"
   ]
  },
  {
   "cell_type": "code",
   "execution_count": 2,
   "id": "bed9b7ec",
   "metadata": {},
   "outputs": [],
   "source": [
    "pg_url = \"jdbc:postgresql://192.168.1.39:5432/pagila\"\n",
    "pg_properties = {\"user\":\"pguser\", \"password\":\"secret\", \"driver\":\"org.postgresql.Driver\"}"
   ]
  },
  {
   "cell_type": "code",
   "execution_count": 3,
   "id": "113eedaa",
   "metadata": {},
   "outputs": [],
   "source": [
    "spark = SparkSession.builder\\\n",
    "    .config('spark.driver.extraClassPath'\n",
    "            , '/home/user/shared_folder/postgresql-42.2.20.jar')\\\n",
    "    .master('local')\\\n",
    "    .appName(\"lesson\")\\\n",
    "    .getOrCreate()"
   ]
  },
  {
   "cell_type": "code",
   "execution_count": 4,
   "id": "6e1a2e27",
   "metadata": {},
   "outputs": [],
   "source": [
    "# вывести количество фильмов в каждой категории, отсортировать по убыванию."
   ]
  },
  {
   "cell_type": "code",
   "execution_count": 5,
   "id": "b6a905a4",
   "metadata": {},
   "outputs": [],
   "source": [
    "film_df = spark.read.jdbc(pg_url,'public.film',properties=pg_properties)"
   ]
  },
  {
   "cell_type": "code",
   "execution_count": 6,
   "id": "62cd73ec",
   "metadata": {},
   "outputs": [],
   "source": [
    "category_df = spark.read.jdbc(pg_url,'public.category',properties=pg_properties)"
   ]
  },
  {
   "cell_type": "code",
   "execution_count": 7,
   "id": "db182d65",
   "metadata": {},
   "outputs": [],
   "source": [
    "film_category_df = spark.read.jdbc(pg_url,'public.film_category',properties=pg_properties)"
   ]
  },
  {
   "cell_type": "code",
   "execution_count": 8,
   "id": "602dc17c",
   "metadata": {},
   "outputs": [
    {
     "name": "stdout",
     "output_type": "stream",
     "text": [
      "+-----------+-----+\n",
      "|       name|count|\n",
      "+-----------+-----+\n",
      "|     Sports|   74|\n",
      "|    Foreign|   73|\n",
      "|     Family|   69|\n",
      "|Documentary|   68|\n",
      "|  Animation|   66|\n",
      "|     Action|   64|\n",
      "|        New|   63|\n",
      "|      Drama|   62|\n",
      "|     Sci-Fi|   61|\n",
      "|      Games|   61|\n",
      "+-----------+-----+\n",
      "only showing top 10 rows\n",
      "\n"
     ]
    }
   ],
   "source": [
    "film_df.join(film_category_df,(film_df.film_id == film_category_df.film_id))\\\n",
    "        .join(category_df,(film_category_df.category_id == category_df.category_id))\\\n",
    "        .groupBy('name')\\\n",
    "        .count()\\\n",
    "        .sort(F.desc('count'))\\\n",
    "        .show(10)   "
   ]
  },
  {
   "cell_type": "code",
   "execution_count": 9,
   "id": "89c864e9",
   "metadata": {},
   "outputs": [],
   "source": [
    "# вывести 10 актеров, чьи фильмы большего всего арендовали, отсортировать по убыванию."
   ]
  },
  {
   "cell_type": "code",
   "execution_count": 10,
   "id": "49df3929",
   "metadata": {},
   "outputs": [],
   "source": [
    "actor_df = spark.read.jdbc(pg_url,'public.actor',properties=pg_properties)"
   ]
  },
  {
   "cell_type": "code",
   "execution_count": 11,
   "id": "4e6776eb",
   "metadata": {},
   "outputs": [],
   "source": [
    "film_actor_df = spark.read.jdbc(pg_url,'public.film_actor',properties=pg_properties)"
   ]
  },
  {
   "cell_type": "code",
   "execution_count": 12,
   "id": "f859a135",
   "metadata": {},
   "outputs": [],
   "source": [
    "inventory_df = spark.read.jdbc(pg_url,'public.inventory',properties=pg_properties)"
   ]
  },
  {
   "cell_type": "code",
   "execution_count": 13,
   "id": "336f85f8",
   "metadata": {},
   "outputs": [],
   "source": [
    "rental_df = spark.read.jdbc(pg_url,'public.rental',properties=pg_properties)"
   ]
  },
  {
   "cell_type": "code",
   "execution_count": 14,
   "id": "0899c196",
   "metadata": {},
   "outputs": [
    {
     "name": "stdout",
     "output_type": "stream",
     "text": [
      "+--------+----------+-----------+----------------+\n",
      "|actor_id|first_name|  last_name|count(rental_id)|\n",
      "+--------+----------+-----------+----------------+\n",
      "|     107|      GINA|  DEGENERES|             753|\n",
      "|     181|   MATTHEW|     CARREY|             678|\n",
      "|     198|      MARY|     KEITEL|             674|\n",
      "|     144|    ANGELA|WITHERSPOON|             654|\n",
      "|     102|    WALTER|       TORN|             640|\n",
      "|      60|     HENRY|      BERRY|             612|\n",
      "|     150|     JAYNE|      NOLTE|             611|\n",
      "|      37|       VAL|     BOLGER|             605|\n",
      "|      23|    SANDRA|     KILMER|             604|\n",
      "|      90|      SEAN|    GUINESS|             599|\n",
      "+--------+----------+-----------+----------------+\n",
      "only showing top 10 rows\n",
      "\n"
     ]
    }
   ],
   "source": [
    "actor_df.join(film_actor_df,(actor_df.actor_id == film_actor_df.actor_id)).drop(film_actor_df.actor_id)\\\n",
    "        .join(inventory_df,(film_actor_df.film_id == inventory_df.film_id))\\\n",
    "        .join(rental_df, (inventory_df.inventory_id == rental_df.inventory_id))\\\n",
    "        .groupBy('actor_id','first_name','last_name')\\\n",
    "        .agg({'rental_id':'count'})\\\n",
    "        .sort(F.desc('count(rental_id)'))\\\n",
    "        .show(10)"
   ]
  },
  {
   "cell_type": "code",
   "execution_count": 15,
   "id": "e6123806",
   "metadata": {},
   "outputs": [],
   "source": [
    "#вывести 10 актеров, чьи фильмы большего всего арендовали, отсортировать по убыванию."
   ]
  },
  {
   "cell_type": "code",
   "execution_count": 16,
   "id": "aaf6063c",
   "metadata": {},
   "outputs": [],
   "source": [
    "payment_df = spark.read.jdbc(pg_url,'public.payment',properties=pg_properties)"
   ]
  },
  {
   "cell_type": "code",
   "execution_count": 17,
   "id": "68303d6f",
   "metadata": {},
   "outputs": [
    {
     "name": "stdout",
     "output_type": "stream",
     "text": [
      "+-----------+------+-----------+\n",
      "|category_id|  name|sum(amount)|\n",
      "+-----------+------+-----------+\n",
      "|         15|Sports|    5314.21|\n",
      "+-----------+------+-----------+\n",
      "only showing top 1 row\n",
      "\n"
     ]
    }
   ],
   "source": [
    "category_df.join(film_category_df,(category_df.category_id == film_category_df.category_id)).drop(film_category_df.category_id)\\\n",
    "        .join(inventory_df,(film_category_df.film_id == inventory_df.film_id))\\\n",
    "        .join(rental_df, (inventory_df.inventory_id == rental_df.inventory_id))\\\n",
    "        .join(payment_df, (payment_df.rental_id == rental_df.rental_id))\\\n",
    "        .groupBy('category_id','name')\\\n",
    "        .agg({'amount':'sum'})\\\n",
    "        .sort(F.desc('sum(amount)'))\\\n",
    "        .show(1)"
   ]
  },
  {
   "cell_type": "code",
   "execution_count": 18,
   "id": "f1f6b4a5",
   "metadata": {},
   "outputs": [],
   "source": [
    "#вывести категорию фильмов, на которую потратили больше всего денег."
   ]
  },
  {
   "cell_type": "code",
   "execution_count": 19,
   "id": "ce696d61",
   "metadata": {},
   "outputs": [
    {
     "name": "stdout",
     "output_type": "stream",
     "text": [
      "+--------------------+\n",
      "|               title|\n",
      "+--------------------+\n",
      "|      CHOCOLATE DUCK|\n",
      "|       BUTCH PANTHER|\n",
      "|        VOLUME HOUSE|\n",
      "|      ORDER BETRAYED|\n",
      "|        TADPOLE PARK|\n",
      "|    KILL BROTHERHOOD|\n",
      "|FRANKENSTEIN STRA...|\n",
      "|    CROSSING DIVORCE|\n",
      "|    SUICIDES SILENCE|\n",
      "|       CATCH AMISTAD|\n",
      "|     PERDITION FARGO|\n",
      "|       FLOATS GARDEN|\n",
      "|           GUMP DATE|\n",
      "|        WALLS ARTIST|\n",
      "|  GLADIATOR WESTWARD|\n",
      "|         HOCUS FRIDA|\n",
      "|ARSENIC INDEPENDENCE|\n",
      "|         MUPPET MILE|\n",
      "|   FIREHOUSE VIETNAM|\n",
      "|       ROOF CHAMPION|\n",
      "+--------------------+\n",
      "only showing top 20 rows\n",
      "\n"
     ]
    }
   ],
   "source": [
    "film_df.join(inventory_df,(film_df.film_id == inventory_df.film_id),'left_outer').drop(film_df.film_id)\\\n",
    "        .filter('film_id is null')\\\n",
    "        .select('title')\\\n",
    "        .show()"
   ]
  },
  {
   "cell_type": "code",
   "execution_count": 20,
   "id": "cdc66721",
   "metadata": {},
   "outputs": [],
   "source": [
    "#вывести топ 3 актеров, которые больше всего появлялись в фильмах в категории “Children”. Если у нескольких актеров одинаковое кол-во фильмов, вывести всех.."
   ]
  },
  {
   "cell_type": "code",
   "execution_count": 21,
   "id": "2476000b",
   "metadata": {},
   "outputs": [],
   "source": [
    "ch_df = actor_df.join(film_actor_df,(actor_df.actor_id == film_actor_df.actor_id)).drop(film_actor_df.actor_id)\\\n",
    "        .join(film_category_df,(film_actor_df.film_id == film_category_df.film_id))\\\n",
    "        .join(category_df,(category_df.category_id == film_category_df.category_id))\\\n",
    "        .filter('name = \"Children\"')\\\n",
    "        .groupBy('actor_id', 'first_name', 'last_name')\\\n",
    "        .count()"
   ]
  },
  {
   "cell_type": "code",
   "execution_count": 22,
   "id": "b46fcb24",
   "metadata": {},
   "outputs": [],
   "source": [
    "cnt_df = ch_df.select('count')\\\n",
    "        .distinct()\\\n",
    "        .select(F.collect_list('count')).first()[0]\n",
    "\n",
    "cnt = sorted(cnt_df)[-3:]\n"
   ]
  },
  {
   "cell_type": "code",
   "execution_count": 23,
   "id": "ddc2f217",
   "metadata": {},
   "outputs": [
    {
     "name": "stdout",
     "output_type": "stream",
     "text": [
      "+--------+----------+---------+-----+\n",
      "|actor_id|first_name|last_name|count|\n",
      "+--------+----------+---------+-----+\n",
      "|      17|     HELEN|   VOIGHT|    7|\n",
      "|     140|    WHOOPI|     HURT|    5|\n",
      "|      80|     RALPH|     CRUZ|    5|\n",
      "|      66|      MARY|    TANDY|    5|\n",
      "|     127|     KEVIN|  GARLAND|    5|\n",
      "|      81|  SCARLETT|    DAMON|    4|\n",
      "|      23|    SANDRA|   KILMER|    4|\n",
      "|     109| SYLVESTER|     DERN|    4|\n",
      "|      92|   KIRSTEN|   AKROYD|    4|\n",
      "|     101|     SUSAN|    DAVIS|    4|\n",
      "|     150|     JAYNE|    NOLTE|    4|\n",
      "|     187|     RENEE|     BALL|    4|\n",
      "|     142|      JADA|    RYDER|    4|\n",
      "|     173|      ALAN| DREYFUSS|    4|\n",
      "|      13|       UMA|     WOOD|    4|\n",
      "|     131|      JANE|  JACKMAN|    4|\n",
      "|      58| CHRISTIAN|   AKROYD|    4|\n",
      "|      93|     ELLEN|  PRESLEY|    4|\n",
      "|      37|       VAL|   BOLGER|    4|\n",
      "+--------+----------+---------+-----+\n",
      "\n"
     ]
    }
   ],
   "source": [
    "ch_df.filter(F.col('count').isin(cnt))\\\n",
    "    .sort(F.desc('count'))\\\n",
    "    .show()"
   ]
  },
  {
   "cell_type": "code",
   "execution_count": 24,
   "id": "b446184b",
   "metadata": {},
   "outputs": [],
   "source": [
    "#вывести города с количеством активных и неактивных клиентов (активный — customer.active = 1). Отсортировать по количеству неактивных клиентов по убыванию."
   ]
  },
  {
   "cell_type": "code",
   "execution_count": 25,
   "id": "4d4f6856",
   "metadata": {},
   "outputs": [],
   "source": [
    "city_df = spark.read.jdbc(pg_url,'public.city',properties=pg_properties)"
   ]
  },
  {
   "cell_type": "code",
   "execution_count": 26,
   "id": "d02aa645",
   "metadata": {},
   "outputs": [],
   "source": [
    "customer_df = spark.read.jdbc(pg_url,'public.customer',properties=pg_properties)"
   ]
  },
  {
   "cell_type": "code",
   "execution_count": 27,
   "id": "33b62284",
   "metadata": {},
   "outputs": [],
   "source": [
    "address_df = spark.read.jdbc(pg_url,'public.address',properties=pg_properties)"
   ]
  },
  {
   "cell_type": "code",
   "execution_count": 28,
   "id": "35aec613",
   "metadata": {},
   "outputs": [
    {
     "name": "stdout",
     "output_type": "stream",
     "text": [
      "+----------------+---+---+\n",
      "|            city| NN|  N|\n",
      "+----------------+---+---+\n",
      "|          Ktahya|  0|  1|\n",
      "|Charlotte Amalie|  0|  1|\n",
      "|         Wroclaw|  0|  1|\n",
      "|       Pingxiang|  0|  1|\n",
      "|     Szkesfehrvr|  0|  1|\n",
      "|          Daxian|  0|  1|\n",
      "|   Coatzacoalcos|  0|  1|\n",
      "|         Bat Yam|  0|  1|\n",
      "| Southend-on-Sea|  0|  1|\n",
      "|        Uluberia|  0|  1|\n",
      "|       Najafabad|  0|  1|\n",
      "|        Xiangfan|  0|  1|\n",
      "|      Kumbakonam|  0|  1|\n",
      "|          Kamyin|  0|  1|\n",
      "|          Amroha|  0|  1|\n",
      "|        Chisinau|  1|  0|\n",
      "|         Esfahan|  1|  0|\n",
      "|       Mit Ghamr|  1|  0|\n",
      "|         Udaipur|  1|  0|\n",
      "|  Dhule (Dhulia)|  1|  0|\n",
      "+----------------+---+---+\n",
      "only showing top 20 rows\n",
      "\n"
     ]
    }
   ],
   "source": [
    "city_df.join(address_df,(city_df.city_id == address_df.city_id)).drop(address_df.city_id)\\\n",
    "        .join(customer_df, (customer_df.address_id == address_df.address_id))\\\n",
    "        .select('city','active')\\\n",
    "        .groupBy('city')\\\n",
    "        .agg(\n",
    "            F.count(F.when(F.col(\"active\") == 1, True)).alias('NN'),\n",
    "            F.count(F.when(F.col(\"active\") == 0, True)).alias('N')\n",
    "            )\\\n",
    "        .sort(F.desc('N'))\\\n",
    "        .show()"
   ]
  },
  {
   "cell_type": "code",
   "execution_count": 29,
   "id": "0d109301",
   "metadata": {},
   "outputs": [],
   "source": [
    "#вывести категорию фильмов, у которой самое большое кол-во часов суммарной аренды в городах (customer.address_id в этом city), и которые начинаются на букву “a”. То же самое сделать для городов в которых есть символ “-”."
   ]
  },
  {
   "cell_type": "code",
   "execution_count": 30,
   "id": "cfaba008",
   "metadata": {},
   "outputs": [
    {
     "name": "stdout",
     "output_type": "stream",
     "text": [
      "+-----------+------+---------+\n",
      "|category_id|  name|sum(rent)|\n",
      "+-----------+------+---------+\n",
      "|         14|Sci-Fi|      243|\n",
      "+-----------+------+---------+\n",
      "only showing top 1 row\n",
      "\n"
     ]
    }
   ],
   "source": [
    "category_df.join(film_category_df,(category_df.category_id == film_category_df.category_id)).drop(film_category_df.category_id)\\\n",
    "        .join(inventory_df,(film_category_df.film_id == inventory_df.film_id))\\\n",
    "        .join(rental_df, (inventory_df.inventory_id == rental_df.inventory_id))\\\n",
    "        .join(customer_df, (customer_df.customer_id == rental_df.customer_id))\\\n",
    "        .join(address_df, (address_df.address_id == customer_df.address_id))\\\n",
    "        .join(city_df, (address_df.city_id == city_df.city_id))\\\n",
    "        .filter('city like \"a%\"')\\\n",
    "        .withColumn('rent', F.expr('extract(hour from return_date-rental_date)'))\\\n",
    "        .groupBy('category_id','name')\\\n",
    "        .sum('rent')\\\n",
    "        .sort(F.desc('sum(rent)'))\\\n",
    "        .show(1)"
   ]
  },
  {
   "cell_type": "code",
   "execution_count": 31,
   "id": "f51371f7",
   "metadata": {},
   "outputs": [
    {
     "name": "stdout",
     "output_type": "stream",
     "text": [
      "+-----------+------+---------+\n",
      "|category_id|  name|sum(rent)|\n",
      "+-----------+------+---------+\n",
      "|         14|Sci-Fi|      730|\n",
      "+-----------+------+---------+\n",
      "only showing top 1 row\n",
      "\n"
     ]
    }
   ],
   "source": [
    "category_df.join(film_category_df,(category_df.category_id == film_category_df.category_id)).drop(film_category_df.category_id)\\\n",
    "        .join(inventory_df,(film_category_df.film_id == inventory_df.film_id))\\\n",
    "        .join(rental_df, (inventory_df.inventory_id == rental_df.inventory_id))\\\n",
    "        .join(customer_df, (customer_df.customer_id == rental_df.customer_id))\\\n",
    "        .join(address_df, (address_df.address_id == customer_df.address_id))\\\n",
    "        .join(city_df, (address_df.city_id == city_df.city_id))\\\n",
    "        .filter('city like \"%-%\"')\\\n",
    "        .withColumn('rent', F.expr('extract(hour from return_date-rental_date)'))\\\n",
    "        .groupBy('category_id','name')\\\n",
    "        .sum('rent')\\\n",
    "        .sort(F.desc('sum(rent)'))\\\n",
    "        .show(1)"
   ]
  }
 ],
 "metadata": {
  "kernelspec": {
   "display_name": "Python 3",
   "language": "python",
   "name": "python3"
  },
  "language_info": {
   "codemirror_mode": {
    "name": "ipython",
    "version": 3
   },
   "file_extension": ".py",
   "mimetype": "text/x-python",
   "name": "python",
   "nbconvert_exporter": "python",
   "pygments_lexer": "ipython3",
   "version": "3.8.8"
  }
 },
 "nbformat": 4,
 "nbformat_minor": 5
}
